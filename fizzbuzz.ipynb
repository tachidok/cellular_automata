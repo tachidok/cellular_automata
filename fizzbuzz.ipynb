{
  "nbformat": 4,
  "nbformat_minor": 0,
  "metadata": {
    "colab": {
      "name": "Untitled0.ipynb",
      "provenance": [],
      "authorship_tag": "ABX9TyNQUV296t/BpFOUu1xG5YAf",
      "include_colab_link": true
    },
    "kernelspec": {
      "name": "python3",
      "display_name": "Python 3"
    },
    "language_info": {
      "name": "python"
    }
  },
  "cells": [
    {
      "cell_type": "markdown",
      "metadata": {
        "id": "view-in-github",
        "colab_type": "text"
      },
      "source": [
        "<a href=\"https://colab.research.google.com/github/tachidok/cellular_automata/blob/master/fizzbuzz.ipynb\" target=\"_parent\"><img src=\"https://colab.research.google.com/assets/colab-badge.svg\" alt=\"Open In Colab\"/></a>"
      ]
    },
    {
      "cell_type": "code",
      "execution_count": 9,
      "metadata": {
        "colab": {
          "base_uri": "https://localhost:8080/"
        },
        "id": "4yJtqOoSU2lE",
        "outputId": "74af7ba7-86eb-48c8-d7a7-620782e2c701"
      },
      "outputs": [
        {
          "output_type": "stream",
          "name": "stdout",
          "text": [
            "BUzz\n",
            "101\n",
            "Fizz\n",
            "103\n",
            "104\n",
            "Fizz Buzz\n",
            "106\n",
            "107\n",
            "Fizz\n",
            "109\n",
            "BUzz\n",
            "Fizz\n",
            "112\n",
            "113\n",
            "Fizz\n",
            "BUzz\n",
            "116\n",
            "Fizz\n",
            "118\n",
            "119\n",
            "Fizz Buzz\n",
            "121\n",
            "122\n",
            "Fizz\n",
            "124\n",
            "BUzz\n",
            "Fizz\n",
            "127\n",
            "128\n",
            "Fizz\n",
            "BUzz\n",
            "131\n",
            "Fizz\n",
            "133\n",
            "134\n",
            "Fizz Buzz\n",
            "136\n",
            "137\n",
            "Fizz\n",
            "139\n",
            "BUzz\n",
            "Fizz\n",
            "142\n",
            "143\n",
            "Fizz\n",
            "BUzz\n",
            "146\n",
            "Fizz\n",
            "148\n",
            "149\n",
            "Fizz Buzz\n",
            "151\n",
            "152\n",
            "Fizz\n",
            "154\n",
            "BUzz\n",
            "Fizz\n",
            "157\n",
            "158\n",
            "Fizz\n",
            "BUzz\n",
            "161\n",
            "Fizz\n",
            "163\n",
            "164\n",
            "Fizz Buzz\n",
            "166\n",
            "167\n",
            "Fizz\n",
            "169\n",
            "BUzz\n",
            "Fizz\n",
            "172\n",
            "173\n",
            "Fizz\n",
            "BUzz\n",
            "176\n",
            "Fizz\n",
            "178\n",
            "179\n",
            "Fizz Buzz\n",
            "181\n",
            "182\n",
            "Fizz\n",
            "184\n",
            "BUzz\n",
            "Fizz\n",
            "187\n",
            "188\n",
            "Fizz\n",
            "BUzz\n",
            "191\n",
            "Fizz\n",
            "193\n",
            "194\n",
            "Fizz Buzz\n",
            "196\n",
            "197\n",
            "Fizz\n",
            "199\n",
            "BUzz\n"
          ]
        }
      ],
      "source": [
        "a=100\n",
        "b=200\n",
        "while a<=b:\n",
        "  if a%3==0 and a%5==0:\n",
        "    print ('Fizz Buzz')\n",
        "  elif a%3 == 0 :\n",
        "    print('Fizz')\n",
        "  elif a%5 == 0 :\n",
        "    print('BUzz')\n",
        "  else: \n",
        "   print(a)\n",
        "  a=a+1"
      ]
    }
  ]
}